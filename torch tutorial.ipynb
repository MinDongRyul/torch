{
 "cells": [
  {
   "cell_type": "code",
   "execution_count": 1,
   "id": "e6407ac6",
   "metadata": {},
   "outputs": [
    {
     "data": {
      "text/plain": [
       "'2.0.1'"
      ]
     },
     "execution_count": 1,
     "metadata": {},
     "output_type": "execute_result"
    }
   ],
   "source": [
    "import torch\n",
    "\n",
    "torch.__version__"
   ]
  },
  {
   "cell_type": "markdown",
   "id": "95fcd939",
   "metadata": {},
   "source": [
    "## 텐서 초기화와 데이터 타입"
   ]
  },
  {
   "cell_type": "markdown",
   "id": "c5d56fa0",
   "metadata": {},
   "source": [
    "초기화 되지 않은 텐서"
   ]
  },
  {
   "cell_type": "code",
   "execution_count": 2,
   "id": "b95a962e",
   "metadata": {},
   "outputs": [
    {
     "name": "stdout",
     "output_type": "stream",
     "text": [
      "tensor([[0., 0.],\n",
      "        [0., 0.],\n",
      "        [0., 0.],\n",
      "        [0., 0.]])\n"
     ]
    }
   ],
   "source": [
    "x = torch.empty(4, 2)\n",
    "print(x)"
   ]
  },
  {
   "cell_type": "markdown",
   "id": "ef7efb28",
   "metadata": {},
   "source": [
    "무작위로 초기화된 텐서"
   ]
  },
  {
   "cell_type": "code",
   "execution_count": 4,
   "id": "9452e2ec",
   "metadata": {},
   "outputs": [
    {
     "name": "stdout",
     "output_type": "stream",
     "text": [
      "tensor([[0.5817, 0.6150],\n",
      "        [0.6206, 0.1391],\n",
      "        [0.2404, 0.7883],\n",
      "        [0.2618, 0.7602]])\n"
     ]
    }
   ],
   "source": [
    "x = torch.rand(4, 2)\n",
    "print(x)"
   ]
  },
  {
   "cell_type": "markdown",
   "id": "a95621f8",
   "metadata": {},
   "source": [
    "데이터 타입(dtype)이 long이고, 0으로 채워진 텐서"
   ]
  },
  {
   "cell_type": "code",
   "execution_count": 5,
   "id": "d252e633",
   "metadata": {},
   "outputs": [
    {
     "name": "stdout",
     "output_type": "stream",
     "text": [
      "tensor([[0, 0],\n",
      "        [0, 0],\n",
      "        [0, 0],\n",
      "        [0, 0]])\n"
     ]
    }
   ],
   "source": [
    "x = torch.zeros(4, 2, dtype=torch.long)\n",
    "print(x)"
   ]
  },
  {
   "cell_type": "markdown",
   "id": "ec317185",
   "metadata": {},
   "source": [
    "사용자가 입력한 값으로 텐서 초기화"
   ]
  },
  {
   "cell_type": "code",
   "execution_count": 13,
   "id": "8eb168be",
   "metadata": {},
   "outputs": [
    {
     "name": "stdout",
     "output_type": "stream",
     "text": [
      "tensor([3.0000, 2.3000])\n"
     ]
    }
   ],
   "source": [
    "x = torch.tensor([3, 2.3])\n",
    "print(x)"
   ]
  },
  {
   "cell_type": "markdown",
   "id": "59aa9a40",
   "metadata": {},
   "source": [
    "2 x 4 크기, double 타입, 1로 채워진 텐서"
   ]
  },
  {
   "cell_type": "code",
   "execution_count": 14,
   "id": "f80a25c3",
   "metadata": {},
   "outputs": [
    {
     "name": "stdout",
     "output_type": "stream",
     "text": [
      "tensor([[1., 1., 1., 1.],\n",
      "        [1., 1., 1., 1.]], dtype=torch.float64)\n"
     ]
    }
   ],
   "source": [
    "x = x.new_ones(2, 4, dtype=torch.double)\n",
    "print(x)"
   ]
  },
  {
   "cell_type": "markdown",
   "id": "cbc88208",
   "metadata": {},
   "source": [
    "x와 같은 크기, float 타입, 무작위로 채워진 텐서"
   ]
  },
  {
   "cell_type": "code",
   "execution_count": 15,
   "id": "4f19ef24",
   "metadata": {},
   "outputs": [
    {
     "name": "stdout",
     "output_type": "stream",
     "text": [
      "tensor([[ 0.5268, -0.6141, -0.5529, -0.7373],\n",
      "        [ 1.3448,  0.4338, -0.0226, -0.4550]])\n"
     ]
    }
   ],
   "source": [
    "x = torch.randn_like(x, dtype=torch.float) # randn_like : 같은 크기\n",
    "print(x)"
   ]
  },
  {
   "cell_type": "markdown",
   "id": "68c9c8a6",
   "metadata": {},
   "source": [
    "텐서의 크기 계산"
   ]
  },
  {
   "cell_type": "code",
   "execution_count": 16,
   "id": "66613d11",
   "metadata": {},
   "outputs": [
    {
     "name": "stdout",
     "output_type": "stream",
     "text": [
      "torch.Size([2, 4])\n"
     ]
    }
   ],
   "source": [
    "print(x.size())"
   ]
  },
  {
   "cell_type": "markdown",
   "id": "6143f3a3",
   "metadata": {},
   "source": [
    "## 데이터 타입(Data Type)\n",
    "| Data type | dtype | CPU tensor | GPU tensor |\n",
    "| ------ | ------ | ------ | ------ |\n",
    "| 32-bit floating point | `torch.float32` or `torch.float` |`torch.FloatTensor` | `torch.cuda.FloatTensor` |\n",
    "| 64-bit floating point | `torch.float64` or `torch.double` |`torch.DoubleTensor` | `torch.cuda.DoubleTensor` |\n",
    "| 16-bit floating point | `torch.float16` or `torch.half` |`torch.HalfTensor` | `torch.cuda.HalfTensor` |\n",
    "| 8-bit integer(unsinged) | `torch.uint8` |`torch.ByteTensor` | `torch.cuda.ByteTensor` |\n",
    "| 8-bit integer(singed) | `torch.int8` |`torch.CharTensor` | `torch.cuda.CharTensor` |\n",
    "| 16-bit integer(signed) | `torch.int16` or `torch.short` |`torch.ShortTensor` | `torch.cuda.ShortTensor` |\n",
    "| 32-bit integer(signed) | `torch.int32` or `torch.int` |`torch.IntTensor` | `torch.cuda.IntTensor` |\n",
    "| 64-bit integer(signed) | `torch.int64` or `torch.long` |`torch.LongTensor` | `torch.cuda.LongTensor` |"
   ]
  },
  {
   "cell_type": "code",
   "execution_count": 17,
   "id": "c5f10bbe",
   "metadata": {},
   "outputs": [
    {
     "name": "stdout",
     "output_type": "stream",
     "text": [
      "tensor([1., 2., 3.])\n",
      "torch.float32\n"
     ]
    }
   ],
   "source": [
    "ft = torch.FloatTensor([1, 2, 3])\n",
    "print(ft)\n",
    "print(ft.dtype)"
   ]
  },
  {
   "cell_type": "code",
   "execution_count": 19,
   "id": "ccdd395b",
   "metadata": {},
   "outputs": [
    {
     "name": "stdout",
     "output_type": "stream",
     "text": [
      "tensor([1, 2, 3], dtype=torch.int16)\n",
      "tensor([1, 2, 3], dtype=torch.int32)\n",
      "tensor([1, 2, 3])\n"
     ]
    }
   ],
   "source": [
    "print(ft.short())\n",
    "print(ft.int())\n",
    "print(ft.long())"
   ]
  },
  {
   "cell_type": "code",
   "execution_count": 20,
   "id": "80e0032d",
   "metadata": {},
   "outputs": [
    {
     "name": "stdout",
     "output_type": "stream",
     "text": [
      "tensor([1, 2, 3], dtype=torch.int32)\n",
      "torch.int32\n"
     ]
    }
   ],
   "source": [
    "it = torch.IntTensor([1, 2, 3])\n",
    "print(it)\n",
    "print(it.dtype)"
   ]
  },
  {
   "cell_type": "code",
   "execution_count": 21,
   "id": "088cd539",
   "metadata": {},
   "outputs": [
    {
     "name": "stdout",
     "output_type": "stream",
     "text": [
      "tensor([1., 2., 3.])\n",
      "tensor([1., 2., 3.], dtype=torch.float64)\n",
      "tensor([1., 2., 3.], dtype=torch.float16)\n"
     ]
    }
   ],
   "source": [
    "print(it.float())\n",
    "print(it.double())\n",
    "print(it.half())"
   ]
  },
  {
   "cell_type": "markdown",
   "id": "f33e3366",
   "metadata": {},
   "source": [
    "## CUDA Tensors\n",
    "- .to 메소드를 사용하여 텐서를 어떠한 장치(cpu, gpu)로도 옮길 수 있음"
   ]
  },
  {
   "cell_type": "code",
   "execution_count": 24,
   "id": "33760fa8",
   "metadata": {},
   "outputs": [
    {
     "name": "stdout",
     "output_type": "stream",
     "text": [
      "tensor([0.8723])\n",
      "0.8723021745681763\n",
      "torch.float32\n"
     ]
    }
   ],
   "source": [
    "x = torch.randn(1)\n",
    "print(x)\n",
    "print(x.item())\n",
    "print(x.dtype)"
   ]
  },
  {
   "cell_type": "code",
   "execution_count": 26,
   "id": "eb90a30d",
   "metadata": {},
   "outputs": [
    {
     "name": "stdout",
     "output_type": "stream",
     "text": [
      "mps\n"
     ]
    }
   ],
   "source": [
    "# torch.cuda.is_available()\n",
    "device = torch.device('mps' if torch.backends.mps.is_available() else 'cpu')\n",
    "print(device)"
   ]
  },
  {
   "cell_type": "code",
   "execution_count": 28,
   "id": "d3b4cbfe",
   "metadata": {},
   "outputs": [
    {
     "name": "stdout",
     "output_type": "stream",
     "text": [
      "tensor([1.], device='mps:0')\n",
      "tensor([0.8723], device='mps:0')\n",
      "tensor([1.8723], device='mps:0')\n",
      "tensor([1.8723]) torch.float64\n"
     ]
    }
   ],
   "source": [
    "y = torch.ones_like(x, device=device)\n",
    "print(y)\n",
    "x = x.to(device)\n",
    "print(x)\n",
    "z = x + y\n",
    "print(z)\n",
    "print(z.to('cpu'), torch.double)"
   ]
  },
  {
   "cell_type": "markdown",
   "id": "93ae5d08",
   "metadata": {},
   "source": [
    "## 다차원 텐서 표현"
   ]
  },
  {
   "cell_type": "markdown",
   "id": "b90e0132",
   "metadata": {},
   "source": [
    "### 0D Tensor(Scalar)\n",
    "- 하나의 숫자를 담고 있는 텐서(tensor)\n",
    "- 축과 형상이 없음"
   ]
  },
  {
   "cell_type": "code",
   "execution_count": 29,
   "id": "d6f41ea6",
   "metadata": {},
   "outputs": [
    {
     "name": "stdout",
     "output_type": "stream",
     "text": [
      "0\n",
      "torch.Size([])\n",
      "tensor(0)\n"
     ]
    }
   ],
   "source": [
    "t0 = torch.tensor(0)\n",
    "print(t0.ndim)\n",
    "print(t0.shape)\n",
    "print(t0)"
   ]
  },
  {
   "cell_type": "markdown",
   "id": "bae492df",
   "metadata": {},
   "source": [
    "### 1D Tensor(Vector)\n",
    "- 값들을 저장한 리스트와 유사한 텐서\n",
    "- 하나의 축이 존재"
   ]
  },
  {
   "cell_type": "code",
   "execution_count": 30,
   "id": "27f812f1",
   "metadata": {},
   "outputs": [
    {
     "name": "stdout",
     "output_type": "stream",
     "text": [
      "1\n",
      "torch.Size([3])\n",
      "tensor([1, 2, 3])\n"
     ]
    }
   ],
   "source": [
    "t1 = torch.tensor([1, 2, 3])\n",
    "print(t1.ndim)\n",
    "print(t1.shape)\n",
    "print(t1)"
   ]
  },
  {
   "attachments": {
    "image.png": {
     "image/png": "[encoded data removed]"
    }
   },
   "cell_type": "markdown",
   "id": "830450be",
   "metadata": {},
   "source": [
    "### 2D Tensor(Matrix)\n",
    "- 행렬과 같은 모양으로 두 개의 축이 존재 \n",
    "- 일반적인 수치, 통계 데이터셋이 해당\n",
    "- 주로 샘플(sample)과 특성(feature)을 가진 구조로 사용\n",
    "![image.png](attachment:image.png)"
   ]
  },
  {
   "cell_type": "code",
   "execution_count": 32,
   "id": "1c547469",
   "metadata": {},
   "outputs": [
    {
     "name": "stdout",
     "output_type": "stream",
     "text": [
      "2\n",
      "torch.Size([3, 3])\n",
      "tensor([[1, 2, 3],\n",
      "        [4, 5, 6],\n",
      "        [7, 8, 9]])\n"
     ]
    }
   ],
   "source": [
    "t2 = torch.tensor([[1, 2, 3], \n",
    "                   [4, 5, 6], \n",
    "                   [7, 8, 9]])\n",
    "print(t2.ndim)\n",
    "print(t2.shape)\n",
    "print(t2)"
   ]
  },
  {
   "attachments": {
    "image.png": {
     "image/png": "[encoded data removed]"
    }
   },
   "cell_type": "markdown",
   "id": "8f0d59e9",
   "metadata": {},
   "source": [
    "### 3D Tensor\n",
    "- 큐브(cube)와 같은 모양으로 세 개의 축이 존재\n",
    "- 데이터가 연속된 시퀀스 데이터나 시간 축이 포함된 시계열 데이터에 해당\n",
    "- 주식 가격 데이터셋, 시간에 따른 질병 발병 데이터 등이 존재\n",
    "- 주로 샘플(sample), 타임스텝(time steps), 특성(features)을 가진 구조로 사용\n",
    "![image.png](attachment:image.png)"
   ]
  },
  {
   "cell_type": "code",
   "execution_count": 33,
   "id": "d3116a04",
   "metadata": {},
   "outputs": [
    {
     "name": "stdout",
     "output_type": "stream",
     "text": [
      "3\n",
      "torch.Size([3, 3, 3])\n",
      "tensor([[[1, 2, 3],\n",
      "         [4, 5, 6],\n",
      "         [7, 8, 9]],\n",
      "\n",
      "        [[1, 2, 3],\n",
      "         [4, 5, 6],\n",
      "         [7, 8, 9]],\n",
      "\n",
      "        [[1, 2, 3],\n",
      "         [4, 5, 6],\n",
      "         [7, 8, 9]]])\n"
     ]
    }
   ],
   "source": [
    "t3 = torch.tensor([[[1, 2, 3], \n",
    "                    [4, 5, 6], \n",
    "                    [7, 8, 9]],\n",
    "                   [[1, 2, 3], \n",
    "                    [4, 5, 6], \n",
    "                    [7, 8, 9]],\n",
    "                   [[1, 2, 3], \n",
    "                    [4, 5, 6], \n",
    "                    [7, 8, 9]]])\n",
    "print(t3.ndim)\n",
    "print(t3.shape)\n",
    "print(t3)"
   ]
  },
  {
   "attachments": {
    "image.png": {
     "image/png": "[encoded data removed]"
    }
   },
   "cell_type": "markdown",
   "id": "b15c3851",
   "metadata": {},
   "source": [
    "### 4D Tensor\n",
    "- 4개의 축\n",
    "- 컬러 이미지 데이터가 대표적인 사례(흑백 이미지 데이터는 3D Tensor로 가능)\n",
    "- 주로 샘플(samples), 높이(height), 너비(width), 컬러 채널(channel)을 가진 구조로 사용\n",
    "![image.png](attachment:image.png)"
   ]
  },
  {
   "cell_type": "markdown",
   "id": "620ff6b6",
   "metadata": {},
   "source": [
    "### 5D Tensor\n",
    "- 5개의 축\n",
    "- 비디오 데이터가 대표적인 사례\n",
    "- 주로 샘플(samples), 프레임(frames), 높아(height), 너비(width), 컬러 채널(channel)을 가진 구조로 사용"
   ]
  },
  {
   "cell_type": "markdown",
   "id": "32f15514",
   "metadata": {},
   "source": [
    "## 텐서의 연산(Operations)\n",
    "- 텐서에 대한 수학 연산, 삼각함수, 비트 연산, 비교 연산, 집계 등 제공"
   ]
  },
  {
   "cell_type": "code",
   "execution_count": 39,
   "id": "daa23c9d",
   "metadata": {},
   "outputs": [
    {
     "name": "stdout",
     "output_type": "stream",
     "text": [
      "tensor([[0.6093, 0.9157]])\n",
      "tensor([[0.6093, 0.9157]])\n",
      "tensor([[1., 1.]])\n",
      "tensor([[0., 0.]])\n",
      "tensor([[0.5000, 0.5000]])\n"
     ]
    }
   ],
   "source": [
    "import math\n",
    "\n",
    "a = torch.rand(1, 2) * 2 - 1\n",
    "print(a)\n",
    "print(torch.abs(a))\n",
    "print(torch.ceil(a))\n",
    "print(torch.floor(a))\n",
    "print(torch.clamp(a, -0.5, 0.5))"
   ]
  },
  {
   "cell_type": "code",
   "execution_count": 42,
   "id": "0a580efd",
   "metadata": {},
   "outputs": [
    {
     "name": "stdout",
     "output_type": "stream",
     "text": [
      "tensor([[0.6093, 0.9157]])\n",
      "tensor(0.6093)\n",
      "tensor(0.9157)\n",
      "tensor(0.7625)\n",
      "tensor(0.2167)\n",
      "tensor(0.5580)\n",
      "tensor([1, 2, 3])\n"
     ]
    }
   ],
   "source": [
    "print(a)\n",
    "print(torch.min(a))\n",
    "print(torch.max(a))\n",
    "print(torch.mean(a))\n",
    "print(torch.std(a))\n",
    "print(torch.prod(a)) # product 계산\n",
    "print(torch.unique(torch.tensor([1, 2, 3, 1, 2, 2])))"
   ]
  },
  {
   "cell_type": "markdown",
   "id": "ff17ce59",
   "metadata": {},
   "source": [
    "max와 min은 dim 인자를 줄 경우 argmax와 argmin도 함께 리턴\n",
    "- argmax : 최대값을 가진 인덱스\n",
    "- argmin : 최소값을 가진 인덱스"
   ]
  },
  {
   "cell_type": "code",
   "execution_count": 43,
   "id": "03813aca",
   "metadata": {},
   "outputs": [
    {
     "name": "stdout",
     "output_type": "stream",
     "text": [
      "tensor([[0.7820, 0.1306],\n",
      "        [0.7184, 0.1092]])\n",
      "torch.return_types.max(\n",
      "values=tensor([0.7820, 0.1306]),\n",
      "indices=tensor([0, 0]))\n",
      "torch.return_types.max(\n",
      "values=tensor([0.7820, 0.7184]),\n",
      "indices=tensor([0, 0]))\n"
     ]
    }
   ],
   "source": [
    "x = torch.rand(2, 2)\n",
    "print(x)\n",
    "print(x.max(dim=0)) # 0.7820과 0.7184 비교\n",
    "print(x.max(dim=1)) # 0.7820과 0.1306 비교"
   ]
  },
  {
   "cell_type": "code",
   "execution_count": 44,
   "id": "dd378211",
   "metadata": {},
   "outputs": [
    {
     "name": "stdout",
     "output_type": "stream",
     "text": [
      "tensor([[0.7472, 0.4846],\n",
      "        [0.6122, 0.2054]])\n",
      "torch.return_types.min(\n",
      "values=tensor([0.6122, 0.2054]),\n",
      "indices=tensor([1, 1]))\n",
      "torch.return_types.min(\n",
      "values=tensor([0.4846, 0.2054]),\n",
      "indices=tensor([1, 1]))\n"
     ]
    }
   ],
   "source": [
    "x = torch.rand(2, 2)\n",
    "print(x)\n",
    "print(x.min(dim=0)) # 0.7820과 0.7184 비교\n",
    "print(x.min(dim=1)) # 0.7820과 0.1306 비교"
   ]
  },
  {
   "cell_type": "code",
   "execution_count": 45,
   "id": "5bf59cda",
   "metadata": {},
   "outputs": [
    {
     "name": "stdout",
     "output_type": "stream",
     "text": [
      "tensor([[0.4113, 0.9770],\n",
      "        [0.2118, 0.7906]])\n",
      "tensor([[0.2601, 0.1089],\n",
      "        [0.3101, 0.1282]])\n"
     ]
    }
   ],
   "source": [
    "x = torch.rand(2, 2)\n",
    "print(x)\n",
    "y = torch.rand(2, 2)\n",
    "print(y)\n"
   ]
  },
  {
   "cell_type": "markdown",
   "id": "7622c2b1",
   "metadata": {},
   "source": [
    "torch.add : 덧셈"
   ]
  },
  {
   "cell_type": "code",
   "execution_count": 47,
   "id": "2c59ea0a",
   "metadata": {},
   "outputs": [
    {
     "name": "stdout",
     "output_type": "stream",
     "text": [
      "tensor([[0.6714, 1.0859],\n",
      "        [0.5218, 0.9187]])\n",
      "tensor([[0.6714, 1.0859],\n",
      "        [0.5218, 0.9187]])\n"
     ]
    }
   ],
   "source": [
    "print(x + y)\n",
    "print(torch.add(x, y))"
   ]
  },
  {
   "cell_type": "markdown",
   "id": "beadb787",
   "metadata": {},
   "source": [
    "결과 텐서를 인자로 제공"
   ]
  },
  {
   "cell_type": "code",
   "execution_count": 50,
   "id": "77c6cad3",
   "metadata": {},
   "outputs": [
    {
     "name": "stdout",
     "output_type": "stream",
     "text": [
      "tensor([[0., 0., 0., 0.],\n",
      "        [0., 0., 0., 0.]])\n",
      "tensor([[0.6714, 1.0859],\n",
      "        [0.5218, 0.9187]])\n"
     ]
    },
    {
     "name": "stderr",
     "output_type": "stream",
     "text": [
      "/var/folders/bx/kws8rd4525gfj8xnyb4pbjrh0000gn/T/ipykernel_16388/1506283865.py:3: UserWarning: An output with one or more elements was resized since it had shape [2, 4], which does not match the required output shape [2, 2]. This behavior is deprecated, and in a future PyTorch release outputs will not be resized unless they have zero elements. You can explicitly reuse an out tensor t by resizing it, inplace, to zero elements with t.resize_(0). (Triggered internally at /Users/runner/work/pytorch/pytorch/pytorch/aten/src/ATen/native/Resize.cpp:33.)\n",
      "  torch.add(x, y, out=result)\n"
     ]
    }
   ],
   "source": [
    "result = torch.empty(2, 4)\n",
    "print(result)\n",
    "torch.add(x, y, out=result)\n",
    "print(result)"
   ]
  },
  {
   "cell_type": "markdown",
   "id": "ab3f2429",
   "metadata": {},
   "source": [
    "in-place 방식\n",
    "- in-place 방식으로 텐서의 값을 변경하는 연산 뒤에 _\"가 붙음\n",
    "- x.copy_(y), x.t_()"
   ]
  },
  {
   "cell_type": "code",
   "execution_count": 51,
   "id": "a60a382a",
   "metadata": {},
   "outputs": [
    {
     "name": "stdout",
     "output_type": "stream",
     "text": [
      "tensor([[0.4113, 0.9770],\n",
      "        [0.2118, 0.7906]])\n",
      "tensor([[0.2601, 0.1089],\n",
      "        [0.3101, 0.1282]])\n",
      "tensor([[0.6714, 1.0859],\n",
      "        [0.5218, 0.9187]])\n"
     ]
    }
   ],
   "source": [
    "print(x)\n",
    "print(y)\n",
    "y.add_(x) # y에 값을 x에 더한 값을 y에 저장\n",
    "print(y)"
   ]
  },
  {
   "cell_type": "markdown",
   "id": "ec9bb849",
   "metadata": {},
   "source": [
    "torch.sub : 뺄셈"
   ]
  },
  {
   "cell_type": "code",
   "execution_count": 52,
   "id": "777f71dc",
   "metadata": {},
   "outputs": [
    {
     "name": "stdout",
     "output_type": "stream",
     "text": [
      "tensor([[0.4113, 0.9770],\n",
      "        [0.2118, 0.7906]])\n",
      "tensor([[0.6714, 1.0859],\n",
      "        [0.5218, 0.9187]])\n",
      "tensor([[-0.2601, -0.1089],\n",
      "        [-0.3101, -0.1282]])\n",
      "tensor([[-0.2601, -0.1089],\n",
      "        [-0.3101, -0.1282]])\n",
      "tensor([[-0.2601, -0.1089],\n",
      "        [-0.3101, -0.1282]])\n"
     ]
    }
   ],
   "source": [
    "print(x)\n",
    "print(y)\n",
    "print(x - y)\n",
    "print(torch.sub(x, y))\n",
    "print(x.sub(y))"
   ]
  },
  {
   "cell_type": "markdown",
   "id": "5a74a695",
   "metadata": {},
   "source": [
    "torch.mul : 곱셈"
   ]
  },
  {
   "cell_type": "code",
   "execution_count": 53,
   "id": "4f59d435",
   "metadata": {},
   "outputs": [
    {
     "name": "stdout",
     "output_type": "stream",
     "text": [
      "tensor([[0.4113, 0.9770],\n",
      "        [0.2118, 0.7906]])\n",
      "tensor([[0.6714, 1.0859],\n",
      "        [0.5218, 0.9187]])\n",
      "tensor([[0.2762, 1.0609],\n",
      "        [0.1105, 0.7263]])\n",
      "tensor([[0.2762, 1.0609],\n",
      "        [0.1105, 0.7263]])\n",
      "tensor([[0.2762, 1.0609],\n",
      "        [0.1105, 0.7263]])\n"
     ]
    }
   ],
   "source": [
    "print(x)\n",
    "print(y)\n",
    "print(x * y)\n",
    "print(torch.mul(x, y))\n",
    "print(x.mul(y))"
   ]
  },
  {
   "cell_type": "markdown",
   "id": "561f5434",
   "metadata": {},
   "source": [
    "torch.div : 나눗셈"
   ]
  },
  {
   "cell_type": "code",
   "execution_count": 54,
   "id": "4c950d4d",
   "metadata": {},
   "outputs": [
    {
     "name": "stdout",
     "output_type": "stream",
     "text": [
      "tensor([[0.4113, 0.9770],\n",
      "        [0.2118, 0.7906]])\n",
      "tensor([[0.6714, 1.0859],\n",
      "        [0.5218, 0.9187]])\n",
      "tensor([[0.6126, 0.8997],\n",
      "        [0.4058, 0.8605]])\n",
      "tensor([[0.6126, 0.8997],\n",
      "        [0.4058, 0.8605]])\n",
      "tensor([[0.6126, 0.8997],\n",
      "        [0.4058, 0.8605]])\n"
     ]
    }
   ],
   "source": [
    "print(x)\n",
    "print(y)\n",
    "print(x / y)\n",
    "print(torch.div(x, y))\n",
    "print(x.div(y))"
   ]
  },
  {
   "cell_type": "markdown",
   "id": "c8e0ed4f",
   "metadata": {},
   "source": [
    "torch.mm : 내적(dot product)"
   ]
  },
  {
   "cell_type": "code",
   "execution_count": 55,
   "id": "28c4c999",
   "metadata": {},
   "outputs": [
    {
     "name": "stdout",
     "output_type": "stream",
     "text": [
      "tensor([[0.4113, 0.9770],\n",
      "        [0.2118, 0.7906]])\n",
      "tensor([[0.6714, 1.0859],\n",
      "        [0.5218, 0.9187]])\n",
      "tensor([[0.7860, 1.3442],\n",
      "        [0.5547, 0.9563]])\n",
      "tensor([[0.7860, 1.3442],\n",
      "        [0.5547, 0.9563]])\n",
      "torch.return_types.svd(\n",
      "U=tensor([[-0.8154, -0.5789],\n",
      "        [-0.5789,  0.8154]]),\n",
      "S=tensor([1.9097, 0.0031]),\n",
      "V=tensor([[-0.5038, -0.8638],\n",
      "        [-0.8638,  0.5038]]))\n"
     ]
    }
   ],
   "source": [
    "print(x)\n",
    "print(y)\n",
    "print(torch.matmul(x, y))\n",
    "z = torch.mm(x, y)\n",
    "print(z)\n",
    "print(torch.svd(z)) # 행렬 분해?"
   ]
  },
  {
   "cell_type": "markdown",
   "id": "1ef1cf54",
   "metadata": {},
   "source": [
    "## 텐서의 조작(Manipulations)"
   ]
  },
  {
   "cell_type": "markdown",
   "id": "5b4ef0fc",
   "metadata": {},
   "source": [
    "### 인덱싱(Indexing): Numpy처럼 인덱싱 형태로 사용가능"
   ]
  },
  {
   "cell_type": "code",
   "execution_count": 59,
   "id": "09e462e0",
   "metadata": {},
   "outputs": [
    {
     "name": "stdout",
     "output_type": "stream",
     "text": [
      "tensor([[1., 2.],\n",
      "        [3., 4.]])\n",
      "tensor(1.)\n",
      "tensor(2.)\n",
      "tensor(3.)\n",
      "tensor(4.)\n",
      "tensor([1., 3.])\n",
      "tensor([2., 4.])\n",
      "tensor([1., 2.])\n",
      "tensor([3., 4.])\n"
     ]
    }
   ],
   "source": [
    "x = torch.Tensor([[1, 2],\n",
    "                  [3, 4]])\n",
    "print(x)\n",
    "\n",
    "print(x[0, 0])\n",
    "print(x[0, 1])\n",
    "print(x[1, 0])\n",
    "print(x[1, 1])\n",
    "\n",
    "print(x[:, 0])\n",
    "print(x[:, 1])\n",
    "\n",
    "print(x[0, :])\n",
    "print(x[1, :])"
   ]
  },
  {
   "cell_type": "markdown",
   "id": "72ef8bcd",
   "metadata": {},
   "source": [
    "view : 텐서의 크기(size)나 모양(shape)을 변경\n",
    "- 기본적으로 변경 전과 후에 텐서 안의 원소 개수가 유지되어야 함\n",
    "- -1로 설정되면 계산을 통해 해당 크기값을 유추"
   ]
  },
  {
   "cell_type": "code",
   "execution_count": 64,
   "id": "135f6470",
   "metadata": {},
   "outputs": [
    {
     "name": "stdout",
     "output_type": "stream",
     "text": [
      "tensor([[-1.1115,  1.2062, -0.5737,  0.2849, -0.2363],\n",
      "        [-0.1616,  1.1897,  0.2586,  1.2292,  0.4906],\n",
      "        [-0.1103, -2.1443, -0.7421, -1.3547, -0.2947],\n",
      "        [ 0.8718, -0.2334,  2.0125,  0.5583,  0.6020]])\n",
      "tensor([-1.1115,  1.2062, -0.5737,  0.2849, -0.2363, -0.1616,  1.1897,  0.2586,\n",
      "         1.2292,  0.4906, -0.1103, -2.1443, -0.7421, -1.3547, -0.2947,  0.8718,\n",
      "        -0.2334,  2.0125,  0.5583,  0.6020])\n",
      "tensor([[-1.1115,  1.2062, -0.5737,  0.2849],\n",
      "        [-0.2363, -0.1616,  1.1897,  0.2586],\n",
      "        [ 1.2292,  0.4906, -0.1103, -2.1443],\n",
      "        [-0.7421, -1.3547, -0.2947,  0.8718],\n",
      "        [-0.2334,  2.0125,  0.5583,  0.6020]])\n"
     ]
    }
   ],
   "source": [
    "x = torch.randn(4, 5)\n",
    "print(x)\n",
    "y = x.view(20)\n",
    "print(y)\n",
    "z = x.view(5, -1) # 5개를 지정할테니 -1 나머지는 알아서 해줘\n",
    "print(z)"
   ]
  },
  {
   "cell_type": "markdown",
   "id": "358a8877",
   "metadata": {},
   "source": [
    "item : 텐서에 값이 단 하나라도 존재하면 숫자값을 얻을 수 있음"
   ]
  },
  {
   "cell_type": "code",
   "execution_count": 65,
   "id": "398a30ba",
   "metadata": {},
   "outputs": [
    {
     "name": "stdout",
     "output_type": "stream",
     "text": [
      "tensor([1.2780])\n",
      "1.2780425548553467\n",
      "torch.float32\n"
     ]
    }
   ],
   "source": [
    "x = torch.randn(1)\n",
    "print(x)\n",
    "print(x.item())\n",
    "print(x.dtype)"
   ]
  },
  {
   "cell_type": "markdown",
   "id": "c274095e",
   "metadata": {},
   "source": [
    "스칼라값 하나만 존재해야 item() 사용 가능"
   ]
  },
  {
   "cell_type": "code",
   "execution_count": 67,
   "id": "ce260ecc",
   "metadata": {},
   "outputs": [
    {
     "name": "stdout",
     "output_type": "stream",
     "text": [
      "tensor([-0.6660,  2.0794])\n",
      "torch.float32\n"
     ]
    }
   ],
   "source": [
    "x = torch.randn(2)\n",
    "print(x)\n",
    "# print(x.item())\n",
    "# RuntimeError: a Tensor with 2 elements cannot be converted to Scalar\n",
    "print(x.dtype)"
   ]
  },
  {
   "cell_type": "markdown",
   "id": "dbf068b4",
   "metadata": {},
   "source": [
    "squeeze : 차원을 축소(제거)"
   ]
  },
  {
   "cell_type": "code",
   "execution_count": 68,
   "id": "37cf4929",
   "metadata": {},
   "outputs": [
    {
     "name": "stdout",
     "output_type": "stream",
     "text": [
      "tensor([[[0.8818, 0.6045, 0.6971],\n",
      "         [0.2611, 0.0606, 0.0899],\n",
      "         [0.3329, 0.2897, 0.4258]]])\n",
      "torch.Size([1, 3, 3])\n"
     ]
    }
   ],
   "source": [
    "tensor = torch.rand(1, 3, 3) # 1 x 3 x 3\n",
    "print(tensor)\n",
    "print(tensor.shape)"
   ]
  },
  {
   "cell_type": "code",
   "execution_count": 69,
   "id": "875640f4",
   "metadata": {},
   "outputs": [
    {
     "name": "stdout",
     "output_type": "stream",
     "text": [
      "tensor([[0.8818, 0.6045, 0.6971],\n",
      "        [0.2611, 0.0606, 0.0899],\n",
      "        [0.3329, 0.2897, 0.4258]])\n",
      "torch.Size([3, 3])\n"
     ]
    }
   ],
   "source": [
    "t = tensor.squeeze()\n",
    "print(t)\n",
    "print(t.shape)"
   ]
  },
  {
   "cell_type": "markdown",
   "id": "1d86e2ae",
   "metadata": {},
   "source": [
    "unsqueeze : 차원을 증가(생성)"
   ]
  },
  {
   "cell_type": "code",
   "execution_count": 70,
   "id": "ecb661c4",
   "metadata": {},
   "outputs": [
    {
     "name": "stdout",
     "output_type": "stream",
     "text": [
      "tensor([[0.0509, 0.5194, 0.2714],\n",
      "        [0.2095, 0.1421, 0.8488],\n",
      "        [0.8263, 0.8785, 0.5627]])\n",
      "torch.Size([3, 3])\n"
     ]
    }
   ],
   "source": [
    "t = torch.rand(3, 3)\n",
    "print(t)\n",
    "print(t.shape)"
   ]
  },
  {
   "cell_type": "code",
   "execution_count": 71,
   "id": "36461b87",
   "metadata": {},
   "outputs": [
    {
     "name": "stdout",
     "output_type": "stream",
     "text": [
      "tensor([[[0.0509, 0.5194, 0.2714],\n",
      "         [0.2095, 0.1421, 0.8488],\n",
      "         [0.8263, 0.8785, 0.5627]]])\n",
      "torch.Size([1, 3, 3])\n"
     ]
    }
   ],
   "source": [
    "tensor = t.unsqueeze(dim=0) # 첫 번째 차원을 기준으로 unsqueeze\n",
    "print(tensor)\n",
    "print(tensor.shape)"
   ]
  },
  {
   "cell_type": "code",
   "execution_count": 72,
   "id": "207c8679",
   "metadata": {},
   "outputs": [
    {
     "name": "stdout",
     "output_type": "stream",
     "text": [
      "tensor([[[0.0509],\n",
      "         [0.5194],\n",
      "         [0.2714]],\n",
      "\n",
      "        [[0.2095],\n",
      "         [0.1421],\n",
      "         [0.8488]],\n",
      "\n",
      "        [[0.8263],\n",
      "         [0.8785],\n",
      "         [0.5627]]])\n",
      "torch.Size([3, 3, 1])\n"
     ]
    }
   ],
   "source": [
    "tensor = t.unsqueeze(dim=2) # 세 번째 차원을 기준으로 unsqueeze\n",
    "print(tensor)\n",
    "print(tensor.shape)"
   ]
  },
  {
   "cell_type": "markdown",
   "id": "f2ab7626",
   "metadata": {},
   "source": [
    "stack : 텐서간 결합"
   ]
  },
  {
   "cell_type": "code",
   "execution_count": 73,
   "id": "81ebaac3",
   "metadata": {},
   "outputs": [
    {
     "name": "stdout",
     "output_type": "stream",
     "text": [
      "tensor([1., 4.])\n",
      "tensor([2., 5.])\n",
      "tensor([3., 6.])\n",
      "tensor([[1., 4.],\n",
      "        [2., 5.],\n",
      "        [3., 6.]])\n"
     ]
    }
   ],
   "source": [
    "x = torch.FloatTensor([1, 4])\n",
    "print(x)\n",
    "y = torch.FloatTensor([2, 5])\n",
    "print(y)\n",
    "z = torch.FloatTensor([3, 6])\n",
    "print(z)\n",
    "\n",
    "print(torch.stack([x, y, z]))"
   ]
  },
  {
   "cell_type": "markdown",
   "id": "6444069c",
   "metadata": {},
   "source": [
    "cat : 텐서를 결합하는 메소드(concatenate)\n",
    "- 넘파이의 stack과 유사하지만, 쌓을 dim이 존재해야함\n",
    "- 해당 차원을 늘려준 후 결합"
   ]
  },
  {
   "cell_type": "code",
   "execution_count": 75,
   "id": "9283fb5a",
   "metadata": {},
   "outputs": [
    {
     "name": "stdout",
     "output_type": "stream",
     "text": [
      "tensor([[[ 1.5696,  0.9413,  0.4731],\n",
      "         [ 0.6237, -0.2159, -1.5907],\n",
      "         [ 1.3120, -1.5403, -0.7232]]])\n",
      "tensor([[[ 0.5033,  1.2308,  0.9866],\n",
      "         [-1.7712,  1.3228, -1.0307],\n",
      "         [ 1.8235,  0.1754, -0.1697]]])\n",
      "tensor([[[ 1.5696,  0.9413,  0.4731],\n",
      "         [ 0.6237, -0.2159, -1.5907],\n",
      "         [ 1.3120, -1.5403, -0.7232]],\n",
      "\n",
      "        [[ 0.5033,  1.2308,  0.9866],\n",
      "         [-1.7712,  1.3228, -1.0307],\n",
      "         [ 1.8235,  0.1754, -0.1697]]])\n",
      "torch.Size([2, 3, 3])\n"
     ]
    }
   ],
   "source": [
    "a = torch.randn(1, 3, 3)\n",
    "print(a)\n",
    "b = torch.randn(1, 3, 3)\n",
    "print(b)\n",
    "\n",
    "c = torch.cat((a, b), dim=0) # 첫 번째 차원 기준\n",
    "print(c)\n",
    "print(c.size())"
   ]
  },
  {
   "cell_type": "code",
   "execution_count": 76,
   "id": "ddf9b979",
   "metadata": {},
   "outputs": [
    {
     "name": "stdout",
     "output_type": "stream",
     "text": [
      "tensor([[[ 1.5696,  0.9413,  0.4731],\n",
      "         [ 0.6237, -0.2159, -1.5907],\n",
      "         [ 1.3120, -1.5403, -0.7232],\n",
      "         [ 0.5033,  1.2308,  0.9866],\n",
      "         [-1.7712,  1.3228, -1.0307],\n",
      "         [ 1.8235,  0.1754, -0.1697]]])\n",
      "torch.Size([1, 6, 3])\n"
     ]
    }
   ],
   "source": [
    "c = torch.cat((a, b), dim=1) # 두 번째 차원 기준\n",
    "print(c)\n",
    "print(c.size())"
   ]
  },
  {
   "cell_type": "code",
   "execution_count": 77,
   "id": "778c017a",
   "metadata": {},
   "outputs": [
    {
     "name": "stdout",
     "output_type": "stream",
     "text": [
      "tensor([[[ 1.5696,  0.9413,  0.4731,  0.5033,  1.2308,  0.9866],\n",
      "         [ 0.6237, -0.2159, -1.5907, -1.7712,  1.3228, -1.0307],\n",
      "         [ 1.3120, -1.5403, -0.7232,  1.8235,  0.1754, -0.1697]]])\n",
      "torch.Size([1, 3, 6])\n"
     ]
    }
   ],
   "source": [
    "c = torch.cat((a, b), dim=2) # 세 번째 차원 기준\n",
    "print(c)\n",
    "print(c.size())"
   ]
  },
  {
   "cell_type": "markdown",
   "id": "25fc5d86",
   "metadata": {},
   "source": [
    "chunk : 텐서를 여러 개로 나눌 때 사용 (몇 개로 나눌 것인가?)"
   ]
  },
  {
   "cell_type": "code",
   "execution_count": 82,
   "id": "6187b84d",
   "metadata": {},
   "outputs": [
    {
     "name": "stdout",
     "output_type": "stream",
     "text": [
      "tensor([[0.5893, 0.7150]])\n",
      "tensor([[-0.2001,  0.0777]])\n"
     ]
    }
   ],
   "source": [
    "print(torch.rand(1, 2))\n",
    "print(torch.randn(1, 2))"
   ]
  },
  {
   "cell_type": "code",
   "execution_count": 87,
   "id": "a52ff757",
   "metadata": {},
   "outputs": [
    {
     "name": "stdout",
     "output_type": "stream",
     "text": [
      "tensor([[0.7674, 0.7503, 0.7651, 0.3907, 0.4330, 0.5340],\n",
      "        [0.7142, 0.9749, 0.9966, 0.0841, 0.2173, 0.0897],\n",
      "        [0.1859, 0.5890, 0.3124, 0.4185, 0.9182, 0.3102]])\n",
      "\n",
      "tensor([[0.7674, 0.7503],\n",
      "        [0.7142, 0.9749],\n",
      "        [0.1859, 0.5890]])\n",
      "tensor([[0.7651, 0.3907],\n",
      "        [0.9966, 0.0841],\n",
      "        [0.3124, 0.4185]])\n",
      "tensor([[0.4330, 0.5340],\n",
      "        [0.2173, 0.0897],\n",
      "        [0.9182, 0.3102]])\n"
     ]
    }
   ],
   "source": [
    "tensor = torch.rand(3, 6)\n",
    "print(tensor)\n",
    "print()\n",
    "\n",
    "t1, t2, t3 = torch.chunk(tensor, chunks=3, dim=1) # 두 번째 차원 기준\n",
    "# chunks=3 : 3부분으로 나눈다\n",
    "print(t1)\n",
    "print(t2)\n",
    "print(t3)"
   ]
  },
  {
   "cell_type": "markdown",
   "id": "7afc057a",
   "metadata": {},
   "source": [
    "split : chunk와 동일한 기능이지만 조금 다름 (텐서의 크기는 몇인가?)"
   ]
  },
  {
   "cell_type": "code",
   "execution_count": 89,
   "id": "e19a5d54",
   "metadata": {},
   "outputs": [
    {
     "name": "stdout",
     "output_type": "stream",
     "text": [
      "tensor([[0.7281, 0.8277, 0.6886, 0.0077, 0.2406, 0.3315],\n",
      "        [0.0057, 0.9933, 0.5972, 0.7085, 0.2679, 0.0937],\n",
      "        [0.3427, 0.3659, 0.7071, 0.2790, 0.9554, 0.3635]])\n",
      "\n",
      "tensor([[0.7281, 0.8277, 0.6886],\n",
      "        [0.0057, 0.9933, 0.5972],\n",
      "        [0.3427, 0.3659, 0.7071]])\n",
      "tensor([[0.0077, 0.2406, 0.3315],\n",
      "        [0.7085, 0.2679, 0.0937],\n",
      "        [0.2790, 0.9554, 0.3635]])\n"
     ]
    }
   ],
   "source": [
    "tensor = torch.rand(3, 6)\n",
    "print(tensor)\n",
    "print()\n",
    "\n",
    "t1, t2 = torch.split(tensor, split_size_or_sections=3, dim=1)\n",
    "# split_size_or_sections=3 : 3의 크기로 나눈다\n",
    "print(t1)\n",
    "print(t2)"
   ]
  },
  {
   "cell_type": "markdown",
   "id": "90a01ed8",
   "metadata": {},
   "source": [
    "torch <-> numpy\n",
    "- Torch Tensor(텐서)를 Numpy array(배열)로 변환 가능\n",
    "    - `numpy()`\n",
    "    - `from_numpy()`\n",
    "- Tensor가 CPU상에 있다면 NumPy 배열은 메모리 공간을 공유하므로 하나가 변하면, 다른 하나도 변함"
   ]
  },
  {
   "cell_type": "code",
   "execution_count": 91,
   "id": "e7883725",
   "metadata": {},
   "outputs": [
    {
     "name": "stdout",
     "output_type": "stream",
     "text": [
      "tensor([1., 1., 1., 1., 1., 1., 1.])\n"
     ]
    }
   ],
   "source": [
    "a = torch.ones(7)\n",
    "print(a)"
   ]
  },
  {
   "cell_type": "code",
   "execution_count": 92,
   "id": "1ba07ab4",
   "metadata": {},
   "outputs": [
    {
     "name": "stdout",
     "output_type": "stream",
     "text": [
      "[1. 1. 1. 1. 1. 1. 1.]\n"
     ]
    }
   ],
   "source": [
    "b = a.numpy()\n",
    "print(b)"
   ]
  },
  {
   "cell_type": "code",
   "execution_count": 94,
   "id": "11563aa3",
   "metadata": {},
   "outputs": [
    {
     "name": "stdout",
     "output_type": "stream",
     "text": [
      "tensor([3., 3., 3., 3., 3., 3., 3.])\n",
      "[3. 3. 3. 3. 3. 3. 3.]\n"
     ]
    }
   ],
   "source": [
    "a.add_(1)\n",
    "print(a)\n",
    "print(b) # numpy array는 메모리 공간을 공유하기 때문에 a가 변하면 b도 변함"
   ]
  },
  {
   "cell_type": "code",
   "execution_count": 95,
   "id": "df477cd3",
   "metadata": {},
   "outputs": [
    {
     "name": "stdout",
     "output_type": "stream",
     "text": [
      "[2. 2. 2. 2. 2. 2. 2.]\n",
      "tensor([2., 2., 2., 2., 2., 2., 2.], dtype=torch.float64)\n"
     ]
    }
   ],
   "source": [
    "import numpy as np\n",
    "\n",
    "a = np.ones(7)\n",
    "b = torch.from_numpy(a)\n",
    "np.add(a, 1, out=a) # add_()\n",
    "print(a)\n",
    "print(b)"
   ]
  },
  {
   "cell_type": "markdown",
   "id": "ddc6537b",
   "metadata": {},
   "source": [
    "## Autograd(자동미분)\n",
    "- `torch.autograd` 패키지는 Tensor의 모든 연산에 대해 자동 미분 제공\n",
    "- 이는 코드를 어떻게 작성하여 실행하느냐에 따라 역전파가 정의된다는 뜻\n",
    "- `backprop`를 위해 미분값을 자동으로 계산"
   ]
  },
  {
   "cell_type": "markdown",
   "id": "98b30386",
   "metadata": {},
   "source": [
    "`requires_gard` 속성을 `True`로 설정하면, 해당 텐서에서 이루어지는 모든 연산들을 추적하기 시작\n",
    "\n",
    "기록을 추적하는 것을 중단하게 하려면, `.detach()`를 호출하여 연산기록으로부터 분리"
   ]
  },
  {
   "cell_type": "code",
   "execution_count": null,
   "id": "2861edb8",
   "metadata": {},
   "outputs": [],
   "source": []
  },
  {
   "cell_type": "markdown",
   "id": "e962bcca",
   "metadata": {},
   "source": [
    "requires_grad_(...) 는 기존 텐서의 requires_grad 값을 바꿔치기(in-place)하여 변경\n",
    "\n",
    "grad_fn : 미분값을 계산한 함수에 대한 정보 저장 (어떤 함수에 대해서 backprop 했는지)"
   ]
  },
  {
   "cell_type": "code",
   "execution_count": null,
   "id": "110868c4",
   "metadata": {},
   "outputs": [],
   "source": []
  },
  {
   "cell_type": "markdown",
   "id": "f696500d",
   "metadata": {},
   "source": [
    "## 기울기(Gradient)"
   ]
  },
  {
   "cell_type": "code",
   "execution_count": null,
   "id": "2a97c775",
   "metadata": {},
   "outputs": [],
   "source": []
  },
  {
   "cell_type": "code",
   "execution_count": null,
   "id": "2327d07e",
   "metadata": {},
   "outputs": [],
   "source": []
  },
  {
   "cell_type": "markdown",
   "id": "ea7d254f",
   "metadata": {},
   "source": [
    "계산이 완료된 후, `.backward()` 를 호출하면 자동으로 역전파 계산이 가능하고, `.grad` 속성에 누적됨"
   ]
  },
  {
   "cell_type": "code",
   "execution_count": null,
   "id": "862b53b3",
   "metadata": {},
   "outputs": [],
   "source": []
  },
  {
   "cell_type": "markdown",
   "id": "36b58708",
   "metadata": {},
   "source": [
    "`grad` : data가 거쳐온 layer에 대한 미분값 저장"
   ]
  },
  {
   "cell_type": "code",
   "execution_count": null,
   "id": "51ee9cbd",
   "metadata": {},
   "outputs": [],
   "source": []
  },
  {
   "cell_type": "markdown",
   "id": "58d28d51",
   "metadata": {},
   "source": [
    "`with torch.no_grad()` 를 사용하여 기울기의 업데이트를 하지 않음\n",
    "\n",
    "기록을 추적하는 것을 방지하기 위해 코드 블럭을 `with torch.no_grad()` 로 감싸면 기울기 계산은 필요 없지만, `requires_grad=True` 로 설정되어 학습 가능한 매개변수를 갖는 모델을 평가(evaluate)할 때 유용"
   ]
  },
  {
   "cell_type": "code",
   "execution_count": null,
   "id": "078eed24",
   "metadata": {},
   "outputs": [],
   "source": []
  },
  {
   "cell_type": "markdown",
   "id": "77750281",
   "metadata": {},
   "source": [
    "`detach()` : 내용물(content)은 같지만 `require_grad` 가 다른 새로운 Tensor를 가져올 때"
   ]
  },
  {
   "cell_type": "code",
   "execution_count": null,
   "id": "995191a3",
   "metadata": {},
   "outputs": [],
   "source": []
  },
  {
   "cell_type": "markdown",
   "id": "350380f5",
   "metadata": {},
   "source": [
    "## 자동 미분 흐름 예제\n",
    "\n",
    "- 계산 흐름 $a \\rightarrow b  \\rightarrow c  \\rightarrow out $\n",
    "\n",
    "## $\\quad \\frac{\\partial out}{\\partial a} = ?$\n",
    "- `backward()`를 통해 $a \\leftarrow b  \\leftarrow c  \\leftarrow out $을 계산하면 $\\frac{\\partial out}{\\partial a}$값이 `a.grad`에 채워짐"
   ]
  },
  {
   "cell_type": "code",
   "execution_count": null,
   "id": "c406bdbd",
   "metadata": {},
   "outputs": [],
   "source": []
  },
  {
   "cell_type": "code",
   "execution_count": null,
   "id": "c4c88a12",
   "metadata": {},
   "outputs": [],
   "source": []
  },
  {
   "cell_type": "code",
   "execution_count": null,
   "id": "38678e86",
   "metadata": {},
   "outputs": [],
   "source": []
  },
  {
   "cell_type": "code",
   "execution_count": null,
   "id": "3069a46e",
   "metadata": {},
   "outputs": [],
   "source": []
  },
  {
   "cell_type": "code",
   "execution_count": null,
   "id": "5f05c05f",
   "metadata": {},
   "outputs": [],
   "source": []
  }
 ],
 "metadata": {
  "kernelspec": {
   "display_name": "Python 3 (ipykernel)",
   "language": "python",
   "name": "python3"
  },
  "language_info": {
   "codemirror_mode": {
    "name": "ipython",
    "version": 3
   },
   "file_extension": ".py",
   "mimetype": "text/x-python",
   "name": "python",
   "nbconvert_exporter": "python",
   "pygments_lexer": "ipython3",
   "version": "3.8.17"
  }
 },
 "nbformat": 4,
 "nbformat_minor": 5
}
